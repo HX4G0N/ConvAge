{
 "cells": [
  {
   "cell_type": "code",
   "execution_count": 7,
   "metadata": {},
   "outputs": [
    {
     "name": "stdout",
     "output_type": "stream",
     "text": [
      "The autoreload extension is already loaded. To reload it, use:\n",
      "  %reload_ext autoreload\n"
     ]
    }
   ],
   "source": [
    "import torch\n",
    "import torch.nn as nn\n",
    "from torch.autograd import Variable\n",
    "import numpy as np\n",
    "from torchvision import datasets, models\n",
    "import matplotlib.pyplot as plt\n",
    "from data_utils import FaceData, FaceDataCropped\n",
    "from nets.convage_final import ConvAgeNN\n",
    "import time\n",
    "import os\n",
    "\n",
    "%load_ext autoreload\n",
    "%autoreload 2\n",
    "\n",
    "plt.ion()   # interactive mode"
   ]
  },
  {
   "cell_type": "code",
   "execution_count": 8,
   "metadata": {
    "collapsed": true
   },
   "outputs": [],
   "source": [
    "train_data = FaceDataCropped(image_paths_file='LAG_background/train/train.txt')\n",
    "val_data = FaceData(image_paths_file='LAG/val/val.txt')\n",
    "test_data = FaceData(image_paths_file='LAG/train/train.txt')"
   ]
  },
  {
   "cell_type": "code",
   "execution_count": 9,
   "metadata": {},
   "outputs": [
    {
     "ename": "AttributeError",
     "evalue": "Can't get attribute 'SegmentationNN' on <module 'classifiers.segmentation_nn' from '/home/carlodedonno/Documents/Code/ConvAge/classifiers/segmentation_nn.py'>",
     "output_type": "error",
     "traceback": [
      "\u001b[0;31m---------------------------------------------------------------------------\u001b[0m",
      "\u001b[0;31mAttributeError\u001b[0m                            Traceback (most recent call last)",
      "\u001b[0;32m<ipython-input-9-dabb1cd696d1>\u001b[0m in \u001b[0;36m<module>\u001b[0;34m()\u001b[0m\n\u001b[0;32m----> 1\u001b[0;31m \u001b[0mmodel\u001b[0m \u001b[0;34m=\u001b[0m \u001b[0mtorch\u001b[0m\u001b[0;34m.\u001b[0m\u001b[0mload\u001b[0m\u001b[0;34m(\u001b[0m\u001b[0;34m'models/convage_segnet_nobackground/convage_segnet_nobackground_760_epochs.model'\u001b[0m\u001b[0;34m)\u001b[0m\u001b[0;34m\u001b[0m\u001b[0m\n\u001b[0m\u001b[1;32m      2\u001b[0m \u001b[0mmodel\u001b[0m\u001b[0;34m.\u001b[0m\u001b[0mcpu\u001b[0m\u001b[0;34m(\u001b[0m\u001b[0;34m)\u001b[0m\u001b[0;34m\u001b[0m\u001b[0m\n\u001b[1;32m      3\u001b[0m \u001b[0mnum_example_imgs\u001b[0m \u001b[0;34m=\u001b[0m \u001b[0;36m5\u001b[0m\u001b[0;34m\u001b[0m\u001b[0m\n\u001b[1;32m      4\u001b[0m \u001b[0mindex\u001b[0m \u001b[0;34m=\u001b[0m \u001b[0;34m[\u001b[0m\u001b[0;36m25\u001b[0m\u001b[0;34m,\u001b[0m \u001b[0;36m40\u001b[0m\u001b[0;34m,\u001b[0m \u001b[0;36m44\u001b[0m\u001b[0;34m,\u001b[0m \u001b[0;36m47\u001b[0m\u001b[0;34m,\u001b[0m \u001b[0;36m68\u001b[0m\u001b[0;34m,\u001b[0m \u001b[0;36m92\u001b[0m\u001b[0;34m]\u001b[0m\u001b[0;34m\u001b[0m\u001b[0m\n\u001b[1;32m      5\u001b[0m \u001b[0mnumRange\u001b[0m \u001b[0;34m=\u001b[0m \u001b[0mnp\u001b[0m\u001b[0;34m.\u001b[0m\u001b[0mfloor\u001b[0m\u001b[0;34m(\u001b[0m\u001b[0mlen\u001b[0m\u001b[0;34m(\u001b[0m\u001b[0mval_data\u001b[0m\u001b[0;34m)\u001b[0m \u001b[0;34m/\u001b[0m \u001b[0mnum_example_imgs\u001b[0m\u001b[0;34m)\u001b[0m\u001b[0;34m\u001b[0m\u001b[0m\n",
      "\u001b[0;32m~/anaconda3/lib/python3.6/site-packages/torch/serialization.py\u001b[0m in \u001b[0;36mload\u001b[0;34m(f, map_location, pickle_module)\u001b[0m\n\u001b[1;32m    259\u001b[0m         \u001b[0mf\u001b[0m \u001b[0;34m=\u001b[0m \u001b[0mopen\u001b[0m\u001b[0;34m(\u001b[0m\u001b[0mf\u001b[0m\u001b[0;34m,\u001b[0m \u001b[0;34m'rb'\u001b[0m\u001b[0;34m)\u001b[0m\u001b[0;34m\u001b[0m\u001b[0m\n\u001b[1;32m    260\u001b[0m     \u001b[0;32mtry\u001b[0m\u001b[0;34m:\u001b[0m\u001b[0;34m\u001b[0m\u001b[0m\n\u001b[0;32m--> 261\u001b[0;31m         \u001b[0;32mreturn\u001b[0m \u001b[0m_load\u001b[0m\u001b[0;34m(\u001b[0m\u001b[0mf\u001b[0m\u001b[0;34m,\u001b[0m \u001b[0mmap_location\u001b[0m\u001b[0;34m,\u001b[0m \u001b[0mpickle_module\u001b[0m\u001b[0;34m)\u001b[0m\u001b[0;34m\u001b[0m\u001b[0m\n\u001b[0m\u001b[1;32m    262\u001b[0m     \u001b[0;32mfinally\u001b[0m\u001b[0;34m:\u001b[0m\u001b[0;34m\u001b[0m\u001b[0m\n\u001b[1;32m    263\u001b[0m         \u001b[0;32mif\u001b[0m \u001b[0mnew_fd\u001b[0m\u001b[0;34m:\u001b[0m\u001b[0;34m\u001b[0m\u001b[0m\n",
      "\u001b[0;32m~/anaconda3/lib/python3.6/site-packages/torch/serialization.py\u001b[0m in \u001b[0;36m_load\u001b[0;34m(f, map_location, pickle_module)\u001b[0m\n\u001b[1;32m    407\u001b[0m     \u001b[0munpickler\u001b[0m \u001b[0;34m=\u001b[0m \u001b[0mpickle_module\u001b[0m\u001b[0;34m.\u001b[0m\u001b[0mUnpickler\u001b[0m\u001b[0;34m(\u001b[0m\u001b[0mf\u001b[0m\u001b[0;34m)\u001b[0m\u001b[0;34m\u001b[0m\u001b[0m\n\u001b[1;32m    408\u001b[0m     \u001b[0munpickler\u001b[0m\u001b[0;34m.\u001b[0m\u001b[0mpersistent_load\u001b[0m \u001b[0;34m=\u001b[0m \u001b[0mpersistent_load\u001b[0m\u001b[0;34m\u001b[0m\u001b[0m\n\u001b[0;32m--> 409\u001b[0;31m     \u001b[0mresult\u001b[0m \u001b[0;34m=\u001b[0m \u001b[0munpickler\u001b[0m\u001b[0;34m.\u001b[0m\u001b[0mload\u001b[0m\u001b[0;34m(\u001b[0m\u001b[0;34m)\u001b[0m\u001b[0;34m\u001b[0m\u001b[0m\n\u001b[0m\u001b[1;32m    410\u001b[0m \u001b[0;34m\u001b[0m\u001b[0m\n\u001b[1;32m    411\u001b[0m     \u001b[0mdeserialized_storage_keys\u001b[0m \u001b[0;34m=\u001b[0m \u001b[0mpickle_module\u001b[0m\u001b[0;34m.\u001b[0m\u001b[0mload\u001b[0m\u001b[0;34m(\u001b[0m\u001b[0mf\u001b[0m\u001b[0;34m)\u001b[0m\u001b[0;34m\u001b[0m\u001b[0m\n",
      "\u001b[0;31mAttributeError\u001b[0m: Can't get attribute 'SegmentationNN' on <module 'classifiers.segmentation_nn' from '/home/carlodedonno/Documents/Code/ConvAge/classifiers/segmentation_nn.py'>"
     ]
    }
   ],
   "source": [
    "model = torch.load('models/convage_segnet_nobackground/convage_segnet_nobackground_760_epochs.model')\n",
    "model.cpu()\n",
    "num_example_imgs = 5\n",
    "index = [25, 40, 44, 47, 68, 92]\n",
    "numRange = np.floor(len(val_data) / num_example_imgs) \n",
    "for i, (img, target) in enumerate(val_data[index]):\n",
    "    plt.figure(figsize=(15, 5))\n",
    "    inputs = img.unsqueeze(0)\n",
    "    inputs = Variable(inputs)\n",
    "    if model.is_cuda:\n",
    "        inputs = inputs.cuda()\n",
    "    outputs = model.forward(inputs)\n",
    "    _, preds = torch.max(outputs, 1)\n",
    "    pred = preds[0].data.cpu()\n",
    "\n",
    "    img, target, pred = img.numpy(), target.numpy(), pred.numpy()\n",
    "\n",
    "    # img\n",
    "    plt.subplot(1, 3, 1)\n",
    "    plt.axis('off')\n",
    "    plt.imshow(img.transpose(1,2,0))\n",
    "    plt.title(\"Input image\")\n",
    "\n",
    "    # target\n",
    "    plt.subplot(1, 3, 2)\n",
    "    plt.axis('off')\n",
    "    target /= 255\n",
    "    plt.imshow(target.reshape(200,200), cmap='gray')\n",
    "    plt.title(\"Target image\")\n",
    "\n",
    "    # pred\n",
    "    plt.subplot(1, 3, 3)\n",
    "    plt.axis('off')\n",
    "    plt.imshow(pred.reshape(200,200), cmap='gray')\n",
    "    plt.title(\"Prediction image\")\n",
    "    plt.savefig('results/convage_nn_background/650_epochs_' + str(i) + '.png')\n",
    "    plt.show()\n"
   ]
  },
  {
   "cell_type": "code",
   "execution_count": null,
   "metadata": {
    "collapsed": true
   },
   "outputs": [],
   "source": [
    "for i in range(5):\n",
    "    startEpoch = 120\n",
    "    intEpochs = 20\n",
    "    model = torch.load('models/convage_mse_nobackground_' + str(startEpoch + i * intEpochs) + '_epochs.model')\n",
    "    model.cpu()\n",
    "    \n",
    "    num_example_imgs = 3\n",
    "    plt.figure(figsize=(15, 5 * num_example_imgs))\n",
    "    \n",
    "    for i, (img, target) in enumerate(val_data[-num_example_imgs:]):\n",
    "        inputs = img.unsqueeze(0)\n",
    "        inputs = Variable(inputs)\n",
    "        if model.is_cuda:\n",
    "            inputs = inputs.cuda()\n",
    "\n",
    "        outputs = model.forward(inputs)\n",
    "        _, preds = torch.max(outputs, 1)\n",
    "        pred = outputs[0].data.cpu()\n",
    "\n",
    "        img, target, pred = img.numpy(), target.numpy(), pred.numpy()\n",
    "\n",
    "        # img\n",
    "        plt.subplot(num_example_imgs, 3, i * 3 + 1)\n",
    "        plt.axis('off')\n",
    "        plt.imshow(img.transpose(1,2,0))\n",
    "        if i == 0:\n",
    "            plt.title(\"Input image\")\n",
    "\n",
    "        # target\n",
    "        plt.subplot(num_example_imgs, 3, i * 3 + 2)\n",
    "        plt.axis('off')\n",
    "        target /= 255\n",
    "        plt.imshow(target.reshape(200,200), cmap='gray')\n",
    "        if i == 0:\n",
    "            plt.title(\"Target image\")\n",
    "\n",
    "        # pred\n",
    "        plt.subplot(num_example_imgs, 3, i * 3 + 3)\n",
    "        plt.axis('off')\n",
    "        plt.imshow(pred.reshape(200,200), cmap='gray')\n",
    "        if i == 0:\n",
    "            plt.title(\"Prediction image\")\n",
    "    plt.savefig('results/convage_mse_nobackground_' + str(startEpoch + i * intEpochs) + '_epochs.png')\n",
    "    plt.show()"
   ]
  }
 ],
 "metadata": {
  "kernelspec": {
   "display_name": "Python 3",
   "language": "python",
   "name": "python3"
  },
  "language_info": {
   "codemirror_mode": {
    "name": "ipython",
    "version": 3
   },
   "file_extension": ".py",
   "mimetype": "text/x-python",
   "name": "python",
   "nbconvert_exporter": "python",
   "pygments_lexer": "ipython3",
   "version": "3.6.3"
  }
 },
 "nbformat": 4,
 "nbformat_minor": 2
}
